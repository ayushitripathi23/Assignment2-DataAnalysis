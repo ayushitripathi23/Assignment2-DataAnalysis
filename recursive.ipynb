{
  "nbformat": 4,
  "nbformat_minor": 0,
  "metadata": {
    "colab": {
      "name": "recursive",
      "provenance": [],
      "collapsed_sections": [],
      "authorship_tag": "ABX9TyMjmJrU2tzMr5W4galF3aat",
      "include_colab_link": true
    },
    "kernelspec": {
      "name": "python3",
      "display_name": "Python 3"
    }
  },
  "cells": [
    {
      "cell_type": "markdown",
      "metadata": {
        "id": "view-in-github",
        "colab_type": "text"
      },
      "source": [
        "<a href=\"https://colab.research.google.com/github/ayushitripathi23/Assignment2-DataAnalysis/blob/master/recursive.ipynb\" target=\"_parent\"><img src=\"https://colab.research.google.com/assets/colab-badge.svg\" alt=\"Open In Colab\"/></a>"
      ]
    },
    {
      "cell_type": "code",
      "metadata": {
        "id": "z3rmrm-c2bZi",
        "outputId": "356acbde-4823-4e76-f69a-709d81f3e6b8",
        "colab": {
          "base_uri": "https://localhost:8080/",
          "height": 51
        }
      },
      "source": [
        "  def fact(n):\n",
        "    if (n==0 or n==1):\n",
        "      return 1\n",
        "    else:\n",
        "      return n*(fact(n-1))\n",
        "n=int(input(\"Enter a number \"))\n",
        "m=print(fact(n))"
      ],
      "execution_count": 1,
      "outputs": [
        {
          "output_type": "stream",
          "text": [
            "Enter a number 5\n",
            "120\n"
          ],
          "name": "stdout"
        }
      ]
    },
    {
      "cell_type": "code",
      "metadata": {
        "id": "P-I6d2fX40jw",
        "outputId": "5555fada-ff88-489f-d0b2-d236ac0f5e7a",
        "colab": {
          "base_uri": "https://localhost:8080/",
          "height": 68
        }
      },
      "source": [
        "#Euclids algorithm GCD\n",
        "def GCD(x,y):\n",
        "  rem=x%y\n",
        "  if(rem==0):\n",
        "    return y\n",
        "  else:\n",
        "    return GCD(y,rem)\n",
        "n=int(input(\"Enter a first number: \"))\n",
        "m=int(input(\"enter a second number: \"))\n",
        "print(\"GCD of a number is :\",GCD(n,m))"
      ],
      "execution_count": 2,
      "outputs": [
        {
          "output_type": "stream",
          "text": [
            "Enter a first number: 62\n",
            "enter a second number: 8\n",
            "GCD of a number is : 2\n"
          ],
          "name": "stdout"
        }
      ]
    },
    {
      "cell_type": "code",
      "metadata": {
        "id": "WUmbldmm-qkP",
        "outputId": "e7c63f15-0bcd-4377-e68d-763590df06f8",
        "colab": {
          "base_uri": "https://localhost:8080/",
          "height": 68
        }
      },
      "source": [
        "def exp_rec(x,y):\n",
        "  if (y==0):\n",
        "    return 1\n",
        "  else:\n",
        "    return (x*(exp_rec(x,y-1)))\n",
        "x=int(input(\"enter a first number\"))\n",
        "y=int(input(\"enter a power\"))\n",
        "z=print(\"exponent of a number is :\",exp_rec(x,y))"
      ],
      "execution_count": 4,
      "outputs": [
        {
          "output_type": "stream",
          "text": [
            "enter a first number5\n",
            "enter a power3\n",
            "exponent of a number is : 125\n"
          ],
          "name": "stdout"
        }
      ]
    },
    {
      "cell_type": "code",
      "metadata": {
        "id": "koAfQDJVEOvX"
      },
      "source": [
        ""
      ],
      "execution_count": null,
      "outputs": []
    }
  ]
}